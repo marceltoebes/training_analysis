{
 "cells": [
  {
   "cell_type": "code",
   "execution_count": null,
   "metadata": {},
   "outputs": [],
   "source": [
    "# default_exp load_data"
   ]
  },
  {
   "cell_type": "markdown",
   "metadata": {},
   "source": [
    "# load_data\n",
    "\n",
    "> Objective is to load and clean all data of steady state training sessions."
   ]
  },
  {
   "cell_type": "code",
   "execution_count": null,
   "metadata": {},
   "outputs": [],
   "source": [
    "#hide\n",
    "from nbdev.showdoc import *"
   ]
  },
  {
   "cell_type": "code",
   "execution_count": null,
   "metadata": {},
   "outputs": [],
   "source": [
    "#hide\n",
    "import json\n",
    "import os\n",
    "import pandas as pd\n",
    "import re\n",
    "\n",
    "# from pandas.io.json import json_normalize"
   ]
  },
  {
   "cell_type": "code",
   "execution_count": null,
   "metadata": {},
   "outputs": [],
   "source": [
    "DATAPATH: str = \"/data/polar-user-data-export_20200306/\"\n",
    "assert os.path.isdir(DATAPATH)"
   ]
  },
  {
   "cell_type": "markdown",
   "metadata": {},
   "source": [
    "### Prepare and test regular expression\n",
    "All files with steady state training have in the file name the string \"training-session\". There're also other files that are not of interest now."
   ]
  },
  {
   "cell_type": "code",
   "execution_count": null,
   "metadata": {},
   "outputs": [],
   "source": [
    "# prepare regular expression\n",
    "file = \"training-session-2019-07-05-123456789-123456d9-8f4b-458e-b50d-3e2039226034.json\"\n",
    "regex = r\"training-session-*\"\n",
    "\n",
    "# assert regeular expression works\n",
    "assert re.search(pattern=regex, string=file)\n",
    "\n",
    "del file"
   ]
  },
  {
   "cell_type": "markdown",
   "metadata": {},
   "source": [
    "### Get and test files list\n",
    "Create iterator with all file names in the DATAPATH"
   ]
  },
  {
   "cell_type": "code",
   "execution_count": null,
   "metadata": {},
   "outputs": [],
   "source": [
    "# create iterator with all files in datapath\n",
    "session_files = os.scandir(DATAPATH)\n",
    "\n",
    "# check if iterator is not empty\n",
    "assert any(True for _ in session_files)"
   ]
  },
  {
   "cell_type": "markdown",
   "metadata": {},
   "source": [
    "### Initialize empty dataframe with the provided auto-laps\n",
    "The autolaps are a distinct section in the provides json file that already converted the raw heart rate and speed data into some useful statistics for each kilometer.\n",
    "For now, the raw data is ignored"
   ]
  },
  {
   "cell_type": "code",
   "execution_count": null,
   "metadata": {},
   "outputs": [],
   "source": [
    "#hide\n",
    "# initialize empty autolaps dataframe\n",
    "maf_running_autolaps = pd.DataFrame(columns=['PK',\n",
    "                                             'lapNumber',\n",
    "                                             'duration',\n",
    "                                             'splitTime',\n",
    "                                             'distance',\n",
    "                                             'HR_min',\n",
    "                                             'HR_avg',\n",
    "                                             'HR_max',\n",
    "                                             'speed_avg',\n",
    "                                             'speed_max'])\n"
   ]
  },
  {
   "cell_type": "markdown",
   "metadata": {},
   "source": [
    "### Some helper functions are needed"
   ]
  },
  {
   "cell_type": "code",
   "execution_count": null,
   "metadata": {},
   "outputs": [],
   "source": [
    "def is_running_maf_session(session_info: pd.DataFrame) -> bool:\n",
    "    \"\"\" function that returns a True if the training session file\n",
    "        is a MAF running session \"\"\"\n",
    "    if (\n",
    "        # if target.name doesn't exist, it was not a MAF profile session\n",
    "        # there are a few sessions which are MAF sessions but haven't got\n",
    "        # profile. Deal with that later\n",
    "            'target.name' not in session_info.columns\n",
    "        ):\n",
    "        result = False\n",
    "    elif (\n",
    "            session_info['target.name'][0] == 'MAF 90 min' and\n",
    "            session_info['sport'][0] == 'RUNNING'\n",
    "        ):\n",
    "        result = True\n",
    "    elif (\n",
    "            session_info['target.name'][0] == 'MAF running' and\n",
    "            session_info['sport'][0] == 'RUNNING'\n",
    "        ):\n",
    "        result = True\n",
    "    else:\n",
    "        result = False\n",
    "\n",
    "    return result\n",
    "\n"
   ]
  },
  {
   "cell_type": "code",
   "execution_count": null,
   "metadata": {},
   "outputs": [],
   "source": [
    "def get_running_autolaps(df_session_info: pd.DataFrame) -> pd.DataFrame:\n",
    "    \"\"\" Function to extract autolaps from session.\n",
    "        For RUNNING profile only \n",
    "    \"\"\"\n",
    "    # determing session key from startTime\n",
    "    session_key: str = df_session_info['startTime'][0]\n",
    "    # place the autolaps in a dataframe\n",
    "    autolaps: pd.DataFrame = pd.DataFrame(df_session_info['autoLaps'][0])\n",
    "    # add session key to autolaps\n",
    "    autolaps.insert(loc=0, column='PK', value=session_key)\n",
    "    # get HR info from each autolap out of dict\n",
    "    hr = pd.json_normalize(autolaps[\"heartRate\"]).add_prefix(\"HR_\")\n",
    "    # get speed info from each autolap out of dict\n",
    "    speed = pd.json_normalize(autolaps[\"speed\"]).add_prefix(\"speed_\")\n",
    "    # combine autolaps with hr and speed\n",
    "    autolaps = pd.concat([autolaps, hr, speed], axis=1)\n",
    "    # remove unneeded columns\n",
    "    autolaps.drop([\"heartRate\", 'speed'], axis=1, inplace=True)\n",
    "\n",
    "    return autolaps\n"
   ]
  },
  {
   "cell_type": "markdown",
   "metadata": {},
   "source": [
    "### Parse all steady state training files"
   ]
  },
  {
   "cell_type": "code",
   "execution_count": null,
   "metadata": {},
   "outputs": [],
   "source": [
    "# parse all relevant files\n",
    "for file in session_files:\n",
    "    # if the file indicates that it's a training session, open it\n",
    "    if re.search(pattern=regex, string=file.name):\n",
    "        with open(file.path, 'r') as open_file:\n",
    "            json_content: dict = json.load(open_file)\n",
    "            # parse the json dictionary to a dataframe\n",
    "            df_session_info: pd.DataFrame = pd.json_normalize(json_content['exercises'])\n",
    "            if is_running_maf_session(df_session_info):\n",
    "                # extract session info into session_autolaps\n",
    "                session_autolaps: pd.DataFrame = get_running_autolaps(df_session_info)\n",
    "                maf_running_autolaps: pd.DataFrame = maf_running_autolaps.append(session_autolaps,\n",
    "                                                                                 ignore_index=True)\n"
   ]
  },
  {
   "cell_type": "code",
   "execution_count": null,
   "metadata": {},
   "outputs": [],
   "source": [
    "print(f\"number of files: {maf_running_autolaps.shape[0]}\")\n"
   ]
  },
  {
   "cell_type": "markdown",
   "metadata": {},
   "source": [
    "### Fix data types"
   ]
  },
  {
   "cell_type": "code",
   "execution_count": null,
   "metadata": {},
   "outputs": [],
   "source": [
    "maf_running_autolaps.dtypes"
   ]
  },
  {
   "cell_type": "markdown",
   "metadata": {},
   "source": [
    "PK should be the date_time column with datetime64 as dtype."
   ]
  },
  {
   "cell_type": "code",
   "execution_count": null,
   "metadata": {},
   "outputs": [],
   "source": [
    "maf_running_autolaps['date_time'] = pd.to_datetime(maf_running_autolaps['PK'], \n",
    "                                                   format='%Y-%m-%dT%H:%M:%S.%f')"
   ]
  },
  {
   "cell_type": "code",
   "execution_count": null,
   "metadata": {},
   "outputs": [],
   "source": [
    "maf_running_autolaps.loc[:, ('date')] = pd.to_datetime(maf_running_autolaps['date_time']).dt.date\n",
    "maf_running_autolaps.loc[:, ('start_time')] = pd.to_datetime(maf_running_autolaps['date_time']).dt.time"
   ]
  },
  {
   "cell_type": "markdown",
   "metadata": {},
   "source": [
    "Repalce the date_time PK to a simple integer PK."
   ]
  },
  {
   "cell_type": "code",
   "execution_count": null,
   "metadata": {},
   "outputs": [],
   "source": [
    "maf_running_autolaps['PK'] = range(0, len(maf_running_autolaps))"
   ]
  },
  {
   "cell_type": "markdown",
   "metadata": {},
   "source": [
    "Convert several variables to integer"
   ]
  },
  {
   "cell_type": "code",
   "execution_count": null,
   "metadata": {},
   "outputs": [],
   "source": [
    "maf_running_autolaps['lap_number'] = maf_running_autolaps['lap_number'].astype(int)\n",
    "maf_running_autolaps['HR_avg'] = maf_running_autolaps['HR_avg'].astype(int)\n",
    "maf_running_autolaps['HR_min'] = maf_running_autolaps['HR_min'].astype(int)\n",
    "maf_running_autolaps['HR_max'] = maf_running_autolaps['HR_max'].astype(int)\n",
    "maf_running_autolaps['distance'] = maf_running_autolaps['distance'].astype(int)"
   ]
  },
  {
   "cell_type": "markdown",
   "metadata": {},
   "source": [
    "Convert the variabels that are supposed to be _seconds_ from a 'object' to a time object.\n",
    "But first, remove PT at start and S at the end."
   ]
  },
  {
   "cell_type": "markdown",
   "metadata": {},
   "source": [
    "https://pandas.pydata.org/pandas-docs/stable/reference/api/pandas.Series.str.extract.html\n",
    "https://www.tutorialspoint.com/regular-expression-in-python-with-examples\n"
   ]
  },
  {
   "cell_type": "code",
   "execution_count": null,
   "metadata": {},
   "outputs": [],
   "source": [
    "maf_running_autolaps.head()"
   ]
  },
  {
   "cell_type": "code",
   "execution_count": null,
   "metadata": {},
   "outputs": [],
   "source": [
    "maf_running_autolaps.dtypes"
   ]
  },
  {
   "cell_type": "code",
   "execution_count": null,
   "metadata": {},
   "outputs": [],
   "source": [
    "maf_running_autolaps['duration'][0]+maf_running_autolaps['duration'][1]"
   ]
  },
  {
   "cell_type": "markdown",
   "metadata": {},
   "source": [
    "#### Rename some column names and reorder the columns"
   ]
  },
  {
   "cell_type": "code",
   "execution_count": null,
   "metadata": {},
   "outputs": [],
   "source": [
    "maf_running_autolaps.rename(columns={\"lapNumber\": \"lap_number\",\n",
    "                                     \"splitTime\": \"split_time\"},\n",
    "                           inplace=True)"
   ]
  },
  {
   "cell_type": "code",
   "execution_count": null,
   "metadata": {},
   "outputs": [],
   "source": [
    "maf_running_autolaps = maf_running_autolaps[['PK',\n",
    "                                             'date',\n",
    "                                             \"lap_number\", \n",
    "                                             'split_time',\n",
    "                                             'duration', \n",
    "                                             'speed_avg', \n",
    "                                             'HR_avg', \n",
    "                                             'HR_min',\n",
    "                                             'HR_max',\n",
    "                                             'speed_max',\n",
    "                                             'distance', \n",
    "                                             'start_time', \n",
    "                                             'date_time']]"
   ]
  },
  {
   "cell_type": "code",
   "execution_count": null,
   "metadata": {},
   "outputs": [],
   "source": [
    "# sort dataframe by date_time and lapNumber\n",
    "maf_running_autolaps.sort_values(by=['date_time', 'lap_number'],\n",
    "                                 axis=0,\n",
    "                                 ascending=True,\n",
    "                                 ignore_index=True,\n",
    "                                 inplace=True)"
   ]
  },
  {
   "cell_type": "code",
   "execution_count": null,
   "metadata": {},
   "outputs": [],
   "source": [
    "maf_running_autolaps.head(10)"
   ]
  },
  {
   "cell_type": "code",
   "execution_count": null,
   "metadata": {},
   "outputs": [],
   "source": [
    "maf_running_autolaps.tail(10)"
   ]
  },
  {
   "cell_type": "code",
   "execution_count": null,
   "metadata": {},
   "outputs": [],
   "source": [
    "maf_running_autolaps.dtypes"
   ]
  },
  {
   "cell_type": "markdown",
   "metadata": {},
   "source": [
    "lapnumber, distance, HR_* should all be integer."
   ]
  },
  {
   "cell_type": "code",
   "execution_count": null,
   "metadata": {},
   "outputs": [],
   "source": [
    "tmp = maf_running_autolaps.copy()"
   ]
  },
  {
   "cell_type": "code",
   "execution_count": null,
   "metadata": {},
   "outputs": [],
   "source": [
    "tmp['HR_avg'].astype(int)"
   ]
  },
  {
   "cell_type": "code",
   "execution_count": null,
   "metadata": {},
   "outputs": [],
   "source": []
  }
 ],
 "metadata": {
  "kernelspec": {
   "display_name": "Python 3",
   "language": "python",
   "name": "python3"
  },
  "language_info": {
   "codemirror_mode": {
    "name": "ipython",
    "version": 3
   },
   "file_extension": ".py",
   "mimetype": "text/x-python",
   "name": "python",
   "nbconvert_exporter": "python",
   "pygments_lexer": "ipython3",
   "version": "3.8.8"
  }
 },
 "nbformat": 4,
 "nbformat_minor": 2
}
